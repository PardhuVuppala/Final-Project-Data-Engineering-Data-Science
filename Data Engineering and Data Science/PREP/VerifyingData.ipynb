{
 "cells": [
  {
   "cell_type": "markdown",
   "metadata": {},
   "source": [
    "Dividing into accepted and rejected certification"
   ]
  },
  {
   "cell_type": "code",
   "execution_count": 2,
   "metadata": {},
   "outputs": [
    {
     "name": "stdout",
     "output_type": "stream",
     "text": [
      "Accepted certifications saved to ./Accepted Data/certification_accepted.csv\n",
      "Rejected certifications saved to ./Rejected Data/certification_rejected.csv\n"
     ]
    }
   ],
   "source": [
    "import pandas as pd\n",
    "\n",
    "input_file = '../STAGGING/certifications.csv'  \n",
    "df = pd.read_csv(input_file)\n",
    "\n",
    "# Split the DataFrame into accepted and rejected certifications\n",
    "accepted_certifications = df[df['status'] == 'Accept']\n",
    "rejected_certifications = df[df['status'] == 'Reject']\n",
    "\n",
    "# Define output file names\n",
    "accepted_file = './Accepted Data/certification_accepted.csv'\n",
    "rejected_file = './Rejected Data/certification_rejected.csv'\n",
    "\n",
    "# Save the split DataFrames to CSV files\n",
    "accepted_certifications.to_csv(accepted_file, index=False)\n",
    "rejected_certifications.to_csv(rejected_file, index=False)\n",
    "\n",
    "print(f\"Accepted certifications saved to {accepted_file}\")\n",
    "print(f\"Rejected certifications saved to {rejected_file}\")"
   ]
  },
  {
   "cell_type": "markdown",
   "metadata": {},
   "source": [
    "Certification Accepted Skill Set"
   ]
  },
  {
   "cell_type": "code",
   "execution_count": 4,
   "metadata": {},
   "outputs": [
    {
     "name": "stdout",
     "output_type": "stream",
     "text": [
      "Summary saved to ./Summary/certification_summary.csv\n"
     ]
    }
   ],
   "source": [
    "import pandas as pd\n",
    "\n",
    "# Read the input certification file\n",
    "input_file = './Accepted Data/certification_accepted.csv'  # Replace with your actual input file path\n",
    "df = pd.read_csv(input_file)\n",
    "\n",
    "# Create a new DataFrame for the required output format\n",
    "output_data = {\n",
    "    'id': [],\n",
    "    'employeeId': [],\n",
    "    'Skillset': [],\n",
    "    'courseDepartment': [],\n",
    "    'Certificate_score': []\n",
    "}\n",
    "\n",
    "# Aggregate the data based on employeeId and courseDepartment\n",
    "for (employee_id, course_department), group in df.groupby(['employeeId', 'courseDepartment']):\n",
    "    skillset = ', '.join(group['skills'].unique())\n",
    "    certificate_score = 85.5 * len(group)  # Each certification contributes a score of 85.5\n",
    "    output_data['id'].append(f'SK{len(output_data[\"id\"]) + 1}')\n",
    "    output_data['employeeId'].append(employee_id)\n",
    "    output_data['Skillset'].append(skillset)\n",
    "    output_data['courseDepartment'].append(course_department)\n",
    "    output_data['Certificate_score'].append(certificate_score)\n",
    "\n",
    "# Create a DataFrame from the output data\n",
    "df_output = pd.DataFrame(output_data)\n",
    "\n",
    "# Define the output file name\n",
    "output_file = './Summary/certification_summary.csv'  # You can specify your desired output path\n",
    "\n",
    "# Save the new DataFrame to a CSV file\n",
    "df_output.to_csv(output_file, index=False)\n",
    "\n",
    "print(f\"Summary saved to {output_file}\")\n"
   ]
  },
  {
   "cell_type": "code",
   "execution_count": 5,
   "metadata": {},
   "outputs": [
    {
     "name": "stdout",
     "output_type": "stream",
     "text": [
      "Accepted skill scores saved to ./Accepted Data/skill_score_accepted.csv\n",
      "Rejected skill scores saved to ./Rejected Data/skill_score_rejected.csv\n"
     ]
    }
   ],
   "source": [
    "import pandas as pd\n",
    "\n",
    "input_file = '../STAGGING/skill_scores.csv' \n",
    "df = pd.read_csv(input_file)\n",
    "\n",
    "accepted_skills = df[df['status'] == 'Accept']\n",
    "rejected_skills = df[df['status'] == 'Reject']\n",
    "\n",
    "accepted_file = './Accepted Data/skill_score_accepted.csv'\n",
    "rejected_file = './Rejected Data/skill_score_rejected.csv'\n",
    "\n",
    "accepted_skills.to_csv(accepted_file, index=False)\n",
    "rejected_skills.to_csv(rejected_file, index=False)\n",
    "\n",
    "print(f\"Accepted skill scores saved to {accepted_file}\")\n",
    "print(f\"Rejected skill scores saved to {rejected_file}\")\n"
   ]
  },
  {
   "cell_type": "code",
   "execution_count": 6,
   "metadata": {},
   "outputs": [
    {
     "name": "stdout",
     "output_type": "stream",
     "text": [
      "Summary saved to ./Summary/skill_score_summary.csv\n"
     ]
    }
   ],
   "source": [
    "import pandas as pd\n",
    "\n",
    "# Read the input skill score file\n",
    "input_file = './Accepted Data/skill_score_accepted.csv'  # Replace with your actual input file path\n",
    "df = pd.read_csv(input_file)\n",
    "\n",
    "# Filter for accepted skills\n",
    "accepted_skills = df[df['status'] == 'Accept']\n",
    "\n",
    "# Create a new DataFrame for the required output format\n",
    "output_data = {\n",
    "    'id': [],\n",
    "    'employeeId': [],\n",
    "    'Skillset': [],\n",
    "    'courseDepartment': [],\n",
    "    'Total_testScore': []\n",
    "}\n",
    "\n",
    "# Aggregate the data based on employeeId and courseDepartment\n",
    "for (employee_id, course_department), group in accepted_skills.groupby(['employeeId', 'courseDepartment']):\n",
    "    skillset = ', '.join(group['skill'].unique())\n",
    "    total_test_score = group['testScore'].sum()  # Sum of all test scores\n",
    "    output_data['id'].append(f'SK{len(output_data[\"id\"]) + 1}')\n",
    "    output_data['employeeId'].append(employee_id)\n",
    "    output_data['Skillset'].append(skillset)\n",
    "    output_data['courseDepartment'].append(course_department)\n",
    "    output_data['Total_testScore'].append(total_test_score)\n",
    "\n",
    "# Create a DataFrame from the output data\n",
    "df_output = pd.DataFrame(output_data)\n",
    "\n",
    "# Define the output file name\n",
    "output_file = './Summary/skill_score_summary.csv'  # You can specify your desired output path\n",
    "\n",
    "# Save the new DataFrame to a CSV file\n",
    "df_output.to_csv(output_file, index=False)\n",
    "\n",
    "print(f\"Summary saved to {output_file}\")\n"
   ]
  },
  {
   "cell_type": "code",
   "execution_count": 33,
   "metadata": {},
   "outputs": [
    {
     "name": "stdout",
     "output_type": "stream",
     "text": [
      "Skillset summary saved to skillset_summary.csv\n"
     ]
    }
   ],
   "source": [
    "# import pandas as pd\n",
    "\n",
    "# # Read the skill course summary and certification summary files\n",
    "# skill_course_file = 'skill_score_summary.csv'  # Replace with your actual file path\n",
    "# certification_file = 'certification_summary.csv'  # Replace with your actual file path\n",
    "\n",
    "# skill_course_df = pd.read_csv(skill_course_file)\n",
    "# certification_df = pd.read_csv(certification_file)\n",
    "\n",
    "# # Perform an outer join to retain all rows from both dataframes\n",
    "# merged_df = pd.merge(skill_course_df, certification_df, on=['employeeId', 'courseDepartment'], how='outer', suffixes=('_skill', '_cert'))\n",
    "\n",
    "# # Handle missing data: fill missing scores with 0 (assuming no score if missing)\n",
    "# merged_df['Total_testScore'] = merged_df['Total_testScore'].fillna(0)\n",
    "# merged_df['Certificate_score'] = merged_df['Certificate_score'].fillna(0)\n",
    "\n",
    "# # If skillset is missing, fill it with an empty string (to prevent NaNs in concatenated results)\n",
    "# merged_df['Skillset_skill'] = merged_df['Skillset_skill'].fillna('')\n",
    "# merged_df['Skillset_cert'] = merged_df['Skillset_cert'].fillna('')\n",
    "\n",
    "# # Group by employeeId and courseDepartment, combining skillsets and summing the scores\n",
    "# final_summary = merged_df.groupby(['employeeId', 'courseDepartment']).agg({\n",
    "#     'Skillset_skill': lambda x: ', '.join(filter(None, x)),  # Combine multiple skillsets, ignoring empty strings\n",
    "#     'Skillset_cert': lambda x: ', '.join(filter(None, x)),  # Combine certificate skillsets, ignoring empty strings\n",
    "#     'Total_testScore': 'sum',  # Sum the test scores\n",
    "#     'Certificate_score': 'sum'  # Sum the certificate scores\n",
    "# }).reset_index()\n",
    "\n",
    "# # Create the output summary with formatted score combination\n",
    "# skillset_summary = {\n",
    "#     'id': [],\n",
    "#     'employeeId': [],\n",
    "#     'Skillset': [],\n",
    "#     'CourseDepartment': [],\n",
    "#     'certificate Course+Total_score': []\n",
    "# }\n",
    "\n",
    "# # Iterate through the grouped data to create the final summary\n",
    "# for index, row in final_summary.iterrows():\n",
    "#     combined_score = row['Total_testScore'] + row['Certificate_score']\n",
    "    \n",
    "#     # Combine Skillsets from both the skill_course and certification\n",
    "#     combined_skillset = ', '.join(filter(None, [row['Skillset_skill'], row['Skillset_cert']]))\n",
    "    \n",
    "#     # Assign combined skills if available; else leave as is\n",
    "#     skillset_summary['id'].append(f'SS{len(skillset_summary[\"id\"]) + 1}')\n",
    "#     skillset_summary['employeeId'].append(row['employeeId'])\n",
    "#     skillset_summary['Skillset'].append(combined_skillset)  # Use combined skillsets\n",
    "#     skillset_summary['CourseDepartment'].append(row['courseDepartment'])\n",
    "    \n",
    "#     # Format scores appropriately based on available scores\n",
    "#     if row['Total_testScore'] > 0 and row['Certificate_score'] > 0:\n",
    "#         skillset_summary['certificate Course+Total_score'].append(f\"{row['Total_testScore']} + {row['Certificate_score']} = {combined_score}\")\n",
    "#     elif row['Total_testScore'] > 0:\n",
    "#         skillset_summary['certificate Course+Total_score'].append(f\"{row['Total_testScore']}\")\n",
    "#     else:\n",
    "#         skillset_summary['certificate Course+Total_score'].append(f\"{row['Certificate_score']}\")\n",
    "\n",
    "# # Create a DataFrame from the summary\n",
    "# skillset_summary_df = pd.DataFrame(skillset_summary)\n",
    "\n",
    "# # Save the result to a CSV file\n",
    "# output_file = 'skillset_summary.csv'  # Specify your desired output path\n",
    "# skillset_summary_df.to_csv(output_file, index=False)\n",
    "\n",
    "# print(f\"Skillset summary saved to {output_file}\")\n"
   ]
  },
  {
   "cell_type": "code",
   "execution_count": 1,
   "metadata": {},
   "outputs": [
    {
     "name": "stdout",
     "output_type": "stream",
     "text": [
      "Skillset summary saved to ./Summary/skillset_summary_v1.csv\n"
     ]
    }
   ],
   "source": [
    "import pandas as pd\n",
    "from collections import Counter\n",
    "\n",
    "# Read the skill course summary and certification summary files\n",
    "skill_course_file = './Summary/skill_score_summary.csv'  # Replace with your actual file path\n",
    "certification_file = './Summary/certification_summary.csv'  # Replace with your actual file path\n",
    "\n",
    "skill_course_df = pd.read_csv(skill_course_file)\n",
    "certification_df = pd.read_csv(certification_file)\n",
    "\n",
    "# Perform an outer join to retain all rows from both dataframes\n",
    "merged_df = pd.merge(skill_course_df, certification_df, on=['employeeId', 'courseDepartment'], how='outer', suffixes=('_skill', '_cert'))\n",
    "\n",
    "# Handle missing data: fill missing scores with 0 (assuming no score if missing)\n",
    "merged_df['Total_testScore'] = merged_df['Total_testScore'].fillna(0)\n",
    "merged_df['Certificate_score'] = merged_df['Certificate_score'].fillna(0)\n",
    "\n",
    "# If skillset is missing, fill it with an empty string (to prevent NaNs in concatenated results)\n",
    "merged_df['Skillset_skill'] = merged_df['Skillset_skill'].fillna('')\n",
    "merged_df['Skillset_cert'] = merged_df['Skillset_cert'].fillna('')\n",
    "\n",
    "# Group by employeeId and courseDepartment, combining skillsets and summing the scores\n",
    "final_summary = merged_df.groupby(['employeeId', 'courseDepartment']).agg({\n",
    "    'Skillset_skill': lambda x: ', '.join(filter(None, x)),  # Combine multiple skillsets, ignoring empty strings\n",
    "    'Skillset_cert': lambda x: ', '.join(filter(None, x)),  # Combine certificate skillsets, ignoring empty strings\n",
    "    'Total_testScore': 'sum',  # Sum the test scores\n",
    "    'Certificate_score': 'sum'  # Sum the certificate scores\n",
    "}).reset_index()\n",
    "\n",
    "# Function to count repeated skills\n",
    "def count_skills(skillset_skill, skillset_cert):\n",
    "    combined_skills = skillset_skill + ', ' + skillset_cert\n",
    "    # Split the skills by comma, remove empty values, and count occurrences\n",
    "    skill_list = [skill.strip() for skill in combined_skills.split(',') if skill.strip()]\n",
    "    skill_counts = Counter(skill_list)\n",
    "    # Create a string with the skill counts\n",
    "    return ', '.join([f\"{skill} ({count})\" if count > 1 else skill for skill, count in skill_counts.items()])\n",
    "\n",
    "# Create the output summary with formatted score combination and skill counts\n",
    "skillset_summary = {\n",
    "    'id': [],\n",
    "    'employeeId': [],\n",
    "    'Skillset': [],\n",
    "    'CourseDepartment': [],\n",
    "    'certificate Course+Total_score': []\n",
    "}\n",
    "\n",
    "# Iterate through the grouped data to create the final summary\n",
    "for index, row in final_summary.iterrows():\n",
    "    combined_score = row['Total_testScore'] + row['Certificate_score']\n",
    "    \n",
    "    # Combine Skillsets from both the skill_course and certification and count occurrences\n",
    "    combined_skillset = count_skills(row['Skillset_skill'], row['Skillset_cert'])\n",
    "    \n",
    "    # Assign combined skills with counts\n",
    "    skillset_summary['id'].append(f'SS{len(skillset_summary[\"id\"]) + 1}')\n",
    "    skillset_summary['employeeId'].append(row['employeeId'])\n",
    "    skillset_summary['Skillset'].append(combined_skillset)  # Use combined skillsets with counts\n",
    "    skillset_summary['CourseDepartment'].append(row['courseDepartment'])\n",
    "    \n",
    "    # Only append the total score\n",
    "    skillset_summary['certificate Course+Total_score'].append(f\"{combined_score}\")\n",
    "\n",
    "# Create a DataFrame from the summary\n",
    "skillset_summary_df = pd.DataFrame(skillset_summary)\n",
    "\n",
    "# Save the result to a CSV file\n",
    "output_file = './Summary/skillset_summary_v1.csv'  # Specify your desired output path\n",
    "skillset_summary_df.to_csv(output_file, index=False)\n",
    "\n",
    "print(f\"Skillset summary saved to {output_file}\")\n"
   ]
  },
  {
   "cell_type": "markdown",
   "metadata": {},
   "source": [
    "Removing (2) numerical in string"
   ]
  },
  {
   "cell_type": "code",
   "execution_count": 2,
   "metadata": {},
   "outputs": [
    {
     "name": "stdout",
     "output_type": "stream",
     "text": [
      "Skillset summary with counts saved to ./Summary/skillset_summary_v2.csv\n"
     ]
    }
   ],
   "source": [
    "import re\n",
    "\n",
    "# Function to extract counts from skills with numbers in parentheses\n",
    "def extract_skill_counts(skillset):\n",
    "    # Find all skills and their counts using regex to match patterns like \"Skill (number)\"\n",
    "    skills_with_counts = re.findall(r'([a-zA-Z\\s]+)\\s\\((\\d+)\\)', skillset)\n",
    "    \n",
    "    # Extract the skills that do not have parentheses (normal skills)\n",
    "    skills_without_counts = [skill.strip() for skill in re.split(r',\\s*', skillset) if not re.search(r'\\(\\d+\\)', skill)]\n",
    "    \n",
    "    # Create a new combined skill list (without the counts in parentheses)\n",
    "    unique_skills = skills_without_counts + [skill for skill, count in skills_with_counts]\n",
    "    \n",
    "    # Sum the count from the parentheses and add 1 for each normal skill without parentheses\n",
    "    total_count =  85*((sum(int(count) for skill, count in skills_with_counts))/2)\n",
    "    \n",
    "    return ', '.join(unique_skills), total_count\n",
    "\n",
    "# Read the CSV file into a DataFrame\n",
    "input_file = './Summary/skillset_summary_v1.csv'  # Use the correct file path\n",
    "df = pd.read_csv(input_file)\n",
    "\n",
    "# Create the output DataFrame with the count column\n",
    "df['Skillset'], df['count'] = zip(*df['Skillset'].apply(extract_skill_counts))\n",
    "\n",
    "# Save the result to a new CSV file\n",
    "output_file = './Summary/skillset_summary_v2.csv'  # Specify your desired output path\n",
    "df.to_csv(output_file, index=False)\n",
    "\n",
    "print(f\"Skillset summary with counts saved to {output_file}\")\n"
   ]
  },
  {
   "cell_type": "code",
   "execution_count": 6,
   "metadata": {},
   "outputs": [
    {
     "name": "stdout",
     "output_type": "stream",
     "text": [
      "Adjusted scores with average score saved to ./Summary/skillset_summary.csv\n"
     ]
    }
   ],
   "source": [
    "import pandas as pd\n",
    "\n",
    "# Function to calculate the adjusted score\n",
    "def score(row):\n",
    "    # Adjust Course+Total_score by subtracting the count\n",
    "    return row['certificate Course+Total_score'] - row['count']\n",
    "\n",
    "# Function to calculate the average score\n",
    "def average_score(row):\n",
    "    # Calculate the average score as adjusted_score / length of Skillset\n",
    "    # Assuming Skillset is a comma-separated string of skills\n",
    "    skillset_length = len(row['Skillset'].split(','))  # Split by commas to count skills\n",
    "    return row['adjusted_score'] / skillset_length if skillset_length > 0 else 0\n",
    "\n",
    "# Read the new CSV file into a DataFrame\n",
    "input_file = './Summary/skillset_summary_v2.csv'  # Use the correct file path for the new file\n",
    "df = pd.read_csv(input_file)\n",
    "\n",
    "# Calculate the adjusted score based on the formula\n",
    "df['adjusted_score'] = df.apply(score, axis=1)\n",
    "\n",
    "# Calculate the average score\n",
    "df['average_score'] = df.apply(average_score, axis=1)\n",
    "\n",
    "# Select only the required columns for the output\n",
    "df = df[['id', 'employeeId', 'Skillset', 'CourseDepartment', 'adjusted_score', 'average_score']]\n",
    "\n",
    "# Save the result to a new CSV file\n",
    "output_file = './Summary/skillset_summary.csv'  # Specify your desired output path\n",
    "df.to_csv(output_file, index=False)\n",
    "\n",
    "print(f\"Adjusted scores with average score saved to {output_file}\")\n"
   ]
  }
 ],
 "metadata": {
  "kernelspec": {
   "display_name": ".venv",
   "language": "python",
   "name": "python3"
  },
  "language_info": {
   "codemirror_mode": {
    "name": "ipython",
    "version": 3
   },
   "file_extension": ".py",
   "mimetype": "text/x-python",
   "name": "python",
   "nbconvert_exporter": "python",
   "pygments_lexer": "ipython3",
   "version": "3.12.5"
  }
 },
 "nbformat": 4,
 "nbformat_minor": 2
}
