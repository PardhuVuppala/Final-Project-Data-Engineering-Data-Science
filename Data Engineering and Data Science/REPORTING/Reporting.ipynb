{
 "cells": [
  {
   "cell_type": "markdown",
   "metadata": {},
   "source": [
    "Converting the csv into required form for adding target course"
   ]
  },
  {
   "cell_type": "code",
   "execution_count": 4,
   "metadata": {},
   "outputs": [
    {
     "name": "stdout",
     "output_type": "stream",
     "text": [
      "Filtered rows with highest average_score per employeeId saved to skillset.csv\n"
     ]
    }
   ],
   "source": [
    "import pandas as pd\n",
    "\n",
    "# Read the CSV file into a DataFrame\n",
    "input_file = '../PREP/Summary/skillset_summary.csv'  # Use the correct file path for the new file\n",
    "df = pd.read_csv(input_file)\n",
    "\n",
    "# For each employeeId, keep the row with the highest average_score\n",
    "df = df.loc[df.groupby('employeeId')['average_score'].idxmax()]\n",
    "\n",
    "# Select the relevant columns to save\n",
    "df = df[['id', 'employeeId', 'Skillset', 'CourseDepartment', 'adjusted_score', 'average_score']]\n",
    "\n",
    "# Save the result to a new CSV file\n",
    "output_file = 'skillset.csv'  # Specify your desired output path\n",
    "df.to_csv(output_file, index=False)\n",
    "\n",
    "print(f\"Filtered rows with highest average_score per employeeId saved to {output_file}\")\n"
   ]
  },
  {
   "cell_type": "code",
   "execution_count": 30,
   "metadata": {},
   "outputs": [
    {
     "name": "stdout",
     "output_type": "stream",
     "text": [
      "Skill counts by department have been saved to skill_counts.csv.\n"
     ]
    }
   ],
   "source": [
    "import pandas as pd\n",
    "\n",
    "# Departments dictionary\n",
    "departments = {\n",
    "    'Development': ['Reactjs', 'Node', 'Next Js', 'Laravel', 'Angular', 'Flutter', 'React Native'],\n",
    "    'Data Science': ['Python', 'Applied ML', 'Big Data'],\n",
    "    'Data Engineering': ['Python', 'MySQL', 'Web Scraping', 'DBT', 'SnowFlake', 'Data Bricks'],\n",
    "    'Cloud': ['AWS', 'Azure', 'GCP', 'Redis']\n",
    "}\n",
    "\n",
    "# Read the CSV file into a DataFrame\n",
    "input_file = 'skillset.csv'  # Use the correct file path for the new file\n",
    "df = pd.read_csv(input_file)\n",
    "\n",
    "# Initialize a dictionary to keep track of skill counts per department\n",
    "skill_counts = {department: {skill: 0 for skill in skills_list} for department, skills_list in departments.items()}\n",
    "\n",
    "# Function to count skills within a department\n",
    "def count_skills_in_departments(skillset, department):\n",
    "    # Split the skillset string into individual skills\n",
    "    skills = skillset.split(', ')\n",
    "    # Count the occurrences of each skill in the corresponding department\n",
    "    for skill in skills:\n",
    "        if skill in departments[department]:  # Check only the current department\n",
    "            skill_counts[department][skill] += 1\n",
    "\n",
    "# Iterate through each row in the DataFrame and count skills occurrences based on department\n",
    "for _, row in df.iterrows():\n",
    "    department = row['CourseDepartment']\n",
    "    skillset = row['Skillset']\n",
    "    count_skills_in_departments(skillset, department)\n",
    "\n",
    "# Create a new DataFrame to store the results\n",
    "results = []\n",
    "for department, skills in skill_counts.items():\n",
    "    for skill, count in skills.items():\n",
    "        results.append({'Department': department, 'Skill': skill, 'Count': count})\n",
    "\n",
    "results_df = pd.DataFrame(results)\n",
    "\n",
    "# Save the results to a CSV file\n",
    "output_file = 'skill_counts.csv'  # Specify the output file name\n",
    "results_df.to_csv(output_file, index=False)\n",
    "\n",
    "print(f\"Skill counts by department have been saved to {output_file}.\")\n"
   ]
  },
  {
   "cell_type": "code",
   "execution_count": 33,
   "metadata": {},
   "outputs": [
    {
     "name": "stdout",
     "output_type": "stream",
     "text": [
      "Current working directory: d:\\Projects\\Web Scraping\\Final Project\\REPORTING\n"
     ]
    }
   ],
   "source": [
    "\n",
    "import pandas as pd\n",
    "import os\n",
    "\n",
    "# Print current working directory\n",
    "print(\"Current working directory:\", os.getcwd())\n",
    "\n",
    "# Read the skillset and skill counts CSV files into DataFrames\n",
    "skillset_df = pd.read_csv('skillset.csv')  # Update with actual path\n",
    "skill_counts_df = pd.read_csv('skill_counts.csv')  # Update with actual path\n",
    "\n",
    "# Initialize a list to store the suggested skills\n",
    "suggested_skills = []\n",
    "\n",
    "# Iterate through each row in the skillset DataFrame\n",
    "for index, row in skillset_df.iterrows():\n",
    "    # Get the Skillset and CourseDepartment\n",
    "    skillset = row['Skillset'].split(', ')\n",
    "    department = row['CourseDepartment']\n",
    "    \n",
    "    # Filter the skill counts DataFrame for the corresponding department\n",
    "    department_skills = skill_counts_df[skill_counts_df['Department'] == department]\n",
    "    \n",
    "    # Find the highest count skill that is not in the current skillset\n",
    "    highest_skill = department_skills[~department_skills['Skill'].isin(skillset)].sort_values(by='Count', ascending=False).head(1)\n",
    "    \n",
    "    # If a skill is found, append it to the suggested skills list\n",
    "    if not highest_skill.empty:\n",
    "        suggested_skill = highest_skill['Skill'].values[0]\n",
    "        suggested_skills.append(suggested_skill)\n",
    "    else:\n",
    "        suggested_skills.append('')  # If no skill found, append an empty string\n",
    "\n",
    "# Add the suggested skills to the skillset DataFrame\n",
    "skillset_df['Suggested Skill'] = suggested_skills\n",
    "\n",
    "# Save the updated DataFrame back to CSV\n",
    "skillset_df.to_csv('skillset_with_target_column.csv', index=False)\n",
    "\n",
    "\n"
   ]
  },
  {
   "cell_type": "code",
   "execution_count": null,
   "metadata": {},
   "outputs": [],
   "source": [
    "import pandas as pd\n",
    "\n",
    "# File paths for your CSV files\n",
    "first_file_path = 'D:\\Projects\\Web Scraping\\Final Project\\PREP\\Rejected Data\\certification_rejected.csv'  # Update with your actual file path\n",
    "second_file_path = 'D:\\Projects\\Web Scraping\\Final Project\\PREP\\Rejected Data\\skill_score_rejected.csv'  # Update with your actual file path\n",
    "\n",
    "# Read data from CSV files into DataFrames\n",
    "first_df = pd.read_csv(first_file_path)\n",
    "second_df = pd.read_csv(second_file_path)\n",
    "\n",
    "# Departments dictionary\n",
    "departments = {\n",
    "    'Development': ['Reactjs', 'Node', 'Next Js', 'Laravel', 'Angular', 'Flutter', 'React Native'],\n",
    "    'Data Science': ['Python', 'Applied ML', 'Big Data'],\n",
    "    'Data Engineering': ['Python', 'MySQL', 'Web Scraping', 'DBT', 'SnowFlake', 'Data Bricks'],\n",
    "    'Cloud': ['AWS', 'Azure', 'GCP', 'Redis']\n",
    "}\n",
    "\n",
    "# Initialize a dictionary to hold the skill counts\n",
    "rejected_skill_count = {dept: {skill: 0 for skill in skills} for dept, skills in departments.items()}\n",
    "\n",
    "# Count rejected skills based on assessments\n",
    "for _, row in second_df.iterrows():\n",
    "    if row['status'] == 'Reject':\n",
    "        dept = row['courseDepartment']\n",
    "        skill = row['skill']\n",
    "        if skill in rejected_skill_count.get(dept, {}):\n",
    "            rejected_skill_count[dept][skill] += 1\n",
    "\n",
    "# Prepare data for the output DataFrame\n",
    "output_data = []\n",
    "for dept, skills in rejected_skill_count.items():\n",
    "    for skill, count in skills.items():\n",
    "        output_data.append([dept, skill, count])\n",
    "\n",
    "# Create the output DataFrame\n",
    "output_df = pd.DataFrame(output_data, columns=['Department', 'Skill', 'Count'])\n",
    "\n",
    "# Display the result\n",
    "print(output_df)\n",
    "\n",
    "# Optionally, save the results to a CSV file\n",
    "output_df.to_csv('rejected_skill_count.csv', index=False)\n"
   ]
  }
 ],
 "metadata": {
  "kernelspec": {
   "display_name": ".venv",
   "language": "python",
   "name": "python3"
  },
  "language_info": {
   "codemirror_mode": {
    "name": "ipython",
    "version": 3
   },
   "file_extension": ".py",
   "mimetype": "text/x-python",
   "name": "python",
   "nbconvert_exporter": "python",
   "pygments_lexer": "ipython3",
   "version": "3.12.5"
  }
 },
 "nbformat": 4,
 "nbformat_minor": 2
}
